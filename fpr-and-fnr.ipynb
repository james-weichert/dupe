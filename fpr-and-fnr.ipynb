{
 "cells": [
  {
   "cell_type": "markdown",
   "metadata": {},
   "source": [
    "## False Positives & False Negatives\n",
    "#### DUPE - Detection Undermining via Prompt Engineering\n",
    "\n",
    "James Weichert\n",
    "\n",
    "CS 5914 _Fall 2023_"
   ]
  },
  {
   "cell_type": "code",
   "execution_count": null,
   "metadata": {},
   "outputs": [],
   "source": []
  }
 ],
 "metadata": {
  "language_info": {
   "name": "python"
  },
  "orig_nbformat": 4
 },
 "nbformat": 4,
 "nbformat_minor": 2
}
