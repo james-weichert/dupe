{
 "cells": [
  {
   "cell_type": "markdown",
   "metadata": {},
   "source": [
    "## Essay Perplexity EDA\n",
    "#### DUPE - Detection Undermining via Prompt Engineering\n",
    "\n",
    "James Weichert and Chinecherem Dimobi\n",
    "\n",
    "CS 5914 _Fall 2023_"
   ]
  },
  {
   "cell_type": "code",
   "execution_count": 1,
   "metadata": {},
   "outputs": [
    {
     "name": "stderr",
     "output_type": "stream",
     "text": [
      "/opt/anaconda3/lib/python3.8/site-packages/scipy/__init__.py:138: UserWarning: A NumPy version >=1.16.5 and <1.23.0 is required for this version of SciPy (detected version 1.24.3)\n",
      "  warnings.warn(f\"A NumPy version >={np_minversion} and <{np_maxversion} is required for this version of \"\n"
     ]
    }
   ],
   "source": [
    "import numpy as np\n",
    "import pandas as pd\n",
    "import seaborn as sns\n",
    "import matplotlib.pyplot as plt"
   ]
  },
  {
   "cell_type": "code",
   "execution_count": 24,
   "metadata": {},
   "outputs": [
    {
     "name": "stderr",
     "output_type": "stream",
     "text": [
      "/opt/anaconda3/lib/python3.8/site-packages/transformers/models/auto/tokenization_auto.py:655: FutureWarning: The `use_auth_token` argument is deprecated and will be removed in v5 of Transformers.\n",
      "  warnings.warn(\n",
      "/opt/anaconda3/lib/python3.8/site-packages/transformers/models/auto/configuration_auto.py:1020: FutureWarning: The `use_auth_token` argument is deprecated and will be removed in v5 of Transformers.\n",
      "  warnings.warn(\n",
      "/opt/anaconda3/lib/python3.8/site-packages/transformers/models/auto/auto_factory.py:472: FutureWarning: The `use_auth_token` argument is deprecated and will be removed in v5 of Transformers.\n",
      "  warnings.warn(\n",
      "/opt/anaconda3/lib/python3.8/site-packages/transformers/utils/hub.py:374: FutureWarning: The `use_auth_token` argument is deprecated and will be removed in v5 of Transformers.\n",
      "  warnings.warn(\n",
      "Using pad_token, but it is not set yet.\n"
     ]
    }
   ],
   "source": [
    "# Import perplexity function from perplexity.py (in same directory)\n",
    "from perplexity import perplexity"
   ]
  },
  {
   "cell_type": "code",
   "execution_count": 2,
   "metadata": {},
   "outputs": [
    {
     "data": {
      "text/html": [
       "<div>\n",
       "<style scoped>\n",
       "    .dataframe tbody tr th:only-of-type {\n",
       "        vertical-align: middle;\n",
       "    }\n",
       "\n",
       "    .dataframe tbody tr th {\n",
       "        vertical-align: top;\n",
       "    }\n",
       "\n",
       "    .dataframe thead th {\n",
       "        text-align: right;\n",
       "    }\n",
       "</style>\n",
       "<table border=\"1\" class=\"dataframe\">\n",
       "  <thead>\n",
       "    <tr style=\"text-align: right;\">\n",
       "      <th></th>\n",
       "      <th>Discipline</th>\n",
       "      <th>Paper Type</th>\n",
       "      <th>Level</th>\n",
       "      <th>Title</th>\n",
       "      <th>Text</th>\n",
       "      <th>Zero GPT AI % 750 Chars</th>\n",
       "      <th>Zero GPT AI % 1500 Chars</th>\n",
       "      <th>Zero GPT AI % 5000 Chars</th>\n",
       "      <th>Zero GPT AI % Full Text</th>\n",
       "      <th>Characters</th>\n",
       "    </tr>\n",
       "  </thead>\n",
       "  <tbody>\n",
       "    <tr>\n",
       "      <th>0</th>\n",
       "      <td>English</td>\n",
       "      <td>Argumentative Essay</td>\n",
       "      <td>Undergraduate</td>\n",
       "      <td>The Vicar of Wakefield as a Failed Morality Story</td>\n",
       "      <td>Morality stories and plays that espouse Christ...</td>\n",
       "      <td>0.00</td>\n",
       "      <td>0.00</td>\n",
       "      <td>0.00</td>\n",
       "      <td>1.48</td>\n",
       "      <td>11115</td>\n",
       "    </tr>\n",
       "    <tr>\n",
       "      <th>1</th>\n",
       "      <td>English</td>\n",
       "      <td>Argumentative Essay</td>\n",
       "      <td>Undergraduate</td>\n",
       "      <td>Governmental Funding for the Development of Se...</td>\n",
       "      <td>At the end of 2006, over 39.5 million people w...</td>\n",
       "      <td>50.19</td>\n",
       "      <td>68.22</td>\n",
       "      <td>35.78</td>\n",
       "      <td>35.13</td>\n",
       "      <td>20057</td>\n",
       "    </tr>\n",
       "    <tr>\n",
       "      <th>2</th>\n",
       "      <td>English</td>\n",
       "      <td>Argumentative Essay</td>\n",
       "      <td>Undergraduate</td>\n",
       "      <td>Who Is God?</td>\n",
       "      <td>One common problem for the Christian tradition...</td>\n",
       "      <td>25.70</td>\n",
       "      <td>12.51</td>\n",
       "      <td>3.95</td>\n",
       "      <td>1.57</td>\n",
       "      <td>12773</td>\n",
       "    </tr>\n",
       "    <tr>\n",
       "      <th>3</th>\n",
       "      <td>English</td>\n",
       "      <td>Argumentative Essay</td>\n",
       "      <td>Undergraduate</td>\n",
       "      <td>The Absolute Necessity of College-Level Writin...</td>\n",
       "      <td>Reading Mike Rose's article, The Language of E...</td>\n",
       "      <td>51.73</td>\n",
       "      <td>37.99</td>\n",
       "      <td>21.81</td>\n",
       "      <td>23.01</td>\n",
       "      <td>7156</td>\n",
       "    </tr>\n",
       "    <tr>\n",
       "      <th>4</th>\n",
       "      <td>English</td>\n",
       "      <td>Argumentative Essay</td>\n",
       "      <td>Undergraduate</td>\n",
       "      <td>People or Property?</td>\n",
       "      <td>In several of Shakespeare's plays, father – da...</td>\n",
       "      <td>0.00</td>\n",
       "      <td>0.00</td>\n",
       "      <td>9.35</td>\n",
       "      <td>15.63</td>\n",
       "      <td>9956</td>\n",
       "    </tr>\n",
       "    <tr>\n",
       "      <th>...</th>\n",
       "      <td>...</td>\n",
       "      <td>...</td>\n",
       "      <td>...</td>\n",
       "      <td>...</td>\n",
       "      <td>...</td>\n",
       "      <td>...</td>\n",
       "      <td>...</td>\n",
       "      <td>...</td>\n",
       "      <td>...</td>\n",
       "      <td>...</td>\n",
       "    </tr>\n",
       "    <tr>\n",
       "      <th>207</th>\n",
       "      <td>Philosophy</td>\n",
       "      <td>Report</td>\n",
       "      <td>Undergraduate</td>\n",
       "      <td>The composition of the Earth</td>\n",
       "      <td>Thales, argued to be the first philosopher by ...</td>\n",
       "      <td>48.84</td>\n",
       "      <td>25.13</td>\n",
       "      <td>8.08</td>\n",
       "      <td>9.02</td>\n",
       "      <td>7993</td>\n",
       "    </tr>\n",
       "    <tr>\n",
       "      <th>208</th>\n",
       "      <td>Philosophy</td>\n",
       "      <td>Report</td>\n",
       "      <td>Undergraduate</td>\n",
       "      <td>God and Omnipotence</td>\n",
       "      <td>According to traditional theology God must be ...</td>\n",
       "      <td>100.00</td>\n",
       "      <td>67.58</td>\n",
       "      <td>43.64</td>\n",
       "      <td>52.84</td>\n",
       "      <td>9508</td>\n",
       "    </tr>\n",
       "    <tr>\n",
       "      <th>209</th>\n",
       "      <td>Philosophy</td>\n",
       "      <td>Report</td>\n",
       "      <td>Undergraduate</td>\n",
       "      <td>Question 9: Determinism and Free Will</td>\n",
       "      <td>At first glance, the question as to whether hu...</td>\n",
       "      <td>56.23</td>\n",
       "      <td>73.50</td>\n",
       "      <td>56.18</td>\n",
       "      <td>43.33</td>\n",
       "      <td>10150</td>\n",
       "    </tr>\n",
       "    <tr>\n",
       "      <th>210</th>\n",
       "      <td>Philosophy</td>\n",
       "      <td>Report</td>\n",
       "      <td>Undergraduate</td>\n",
       "      <td>Hume and Smith on Justice</td>\n",
       "      <td>Adam Smith and David Hume agree that rules of ...</td>\n",
       "      <td>0.00</td>\n",
       "      <td>8.59</td>\n",
       "      <td>2.62</td>\n",
       "      <td>2.56</td>\n",
       "      <td>25055</td>\n",
       "    </tr>\n",
       "    <tr>\n",
       "      <th>211</th>\n",
       "      <td>Philosophy</td>\n",
       "      <td>Response Paper</td>\n",
       "      <td>Undergraduate</td>\n",
       "      <td>The Evaluative Role of Pain</td>\n",
       "      <td>Eric suggested in class that pain fulfills cri...</td>\n",
       "      <td>0.00</td>\n",
       "      <td>33.87</td>\n",
       "      <td>33.87</td>\n",
       "      <td>33.87</td>\n",
       "      <td>1490</td>\n",
       "    </tr>\n",
       "  </tbody>\n",
       "</table>\n",
       "<p>212 rows × 10 columns</p>\n",
       "</div>"
      ],
      "text/plain": [
       "     Discipline           Paper Type          Level  \\\n",
       "0       English  Argumentative Essay  Undergraduate   \n",
       "1       English  Argumentative Essay  Undergraduate   \n",
       "2       English  Argumentative Essay  Undergraduate   \n",
       "3       English  Argumentative Essay  Undergraduate   \n",
       "4       English  Argumentative Essay  Undergraduate   \n",
       "..          ...                  ...            ...   \n",
       "207  Philosophy               Report  Undergraduate   \n",
       "208  Philosophy               Report  Undergraduate   \n",
       "209  Philosophy               Report  Undergraduate   \n",
       "210  Philosophy               Report  Undergraduate   \n",
       "211  Philosophy       Response Paper  Undergraduate   \n",
       "\n",
       "                                                 Title  \\\n",
       "0    The Vicar of Wakefield as a Failed Morality Story   \n",
       "1    Governmental Funding for the Development of Se...   \n",
       "2                                          Who Is God?   \n",
       "3    The Absolute Necessity of College-Level Writin...   \n",
       "4                                  People or Property?   \n",
       "..                                                 ...   \n",
       "207                       The composition of the Earth   \n",
       "208                                God and Omnipotence   \n",
       "209              Question 9: Determinism and Free Will   \n",
       "210                          Hume and Smith on Justice   \n",
       "211                        The Evaluative Role of Pain   \n",
       "\n",
       "                                                  Text  \\\n",
       "0    Morality stories and plays that espouse Christ...   \n",
       "1    At the end of 2006, over 39.5 million people w...   \n",
       "2    One common problem for the Christian tradition...   \n",
       "3    Reading Mike Rose's article, The Language of E...   \n",
       "4    In several of Shakespeare's plays, father – da...   \n",
       "..                                                 ...   \n",
       "207  Thales, argued to be the first philosopher by ...   \n",
       "208  According to traditional theology God must be ...   \n",
       "209  At first glance, the question as to whether hu...   \n",
       "210  Adam Smith and David Hume agree that rules of ...   \n",
       "211  Eric suggested in class that pain fulfills cri...   \n",
       "\n",
       "     Zero GPT AI % 750 Chars  Zero GPT AI % 1500 Chars  \\\n",
       "0                       0.00                      0.00   \n",
       "1                      50.19                     68.22   \n",
       "2                      25.70                     12.51   \n",
       "3                      51.73                     37.99   \n",
       "4                       0.00                      0.00   \n",
       "..                       ...                       ...   \n",
       "207                    48.84                     25.13   \n",
       "208                   100.00                     67.58   \n",
       "209                    56.23                     73.50   \n",
       "210                     0.00                      8.59   \n",
       "211                     0.00                     33.87   \n",
       "\n",
       "     Zero GPT AI % 5000 Chars  Zero GPT AI % Full Text  Characters  \n",
       "0                        0.00                     1.48       11115  \n",
       "1                       35.78                    35.13       20057  \n",
       "2                        3.95                     1.57       12773  \n",
       "3                       21.81                    23.01        7156  \n",
       "4                        9.35                    15.63        9956  \n",
       "..                        ...                      ...         ...  \n",
       "207                      8.08                     9.02        7993  \n",
       "208                     43.64                    52.84        9508  \n",
       "209                     56.18                    43.33       10150  \n",
       "210                      2.62                     2.56       25055  \n",
       "211                     33.87                    33.87        1490  \n",
       "\n",
       "[212 rows x 10 columns]"
      ]
     },
     "execution_count": 2,
     "metadata": {},
     "output_type": "execute_result"
    }
   ],
   "source": [
    "essays = pd.read_csv(\"Data/human_essays.csv\")\n",
    "essays"
   ]
  },
  {
   "cell_type": "code",
   "execution_count": 26,
   "metadata": {},
   "outputs": [],
   "source": [
    "def compute_perplexities(df, verbose=False):\n",
    "\n",
    "    text_perplexities = np.array([])\n",
    "\n",
    "    for i in range(len(df)):\n",
    "\n",
    "        if verbose:\n",
    "            print(\"==== Essay #\" + str(i + 1) + \" ====\")\n",
    "\n",
    "        text = df.iloc[i]['Text'][:15000] # Limit to first 15,000 characters\n",
    "\n",
    "        text_perplexities = np.append(text_perplexities, perplexity(text))\n",
    "\n",
    "    return text_perplexities"
   ]
  },
  {
   "cell_type": "code",
   "execution_count": null,
   "metadata": {},
   "outputs": [],
   "source": [
    "# Computes perplexity scores for all 213 essays.\n",
    "# THIS CELL COULD TAKE 1-2 *HOURS* TO RUN.\n",
    "\n",
    "# Uncomment line below to compute perplexities\n",
    "# essay_perplexities = compute_perplexities(essays, verbose=True)"
   ]
  },
  {
   "cell_type": "code",
   "execution_count": 7,
   "metadata": {},
   "outputs": [],
   "source": [
    "# If not computing perplexities from scratch, \n",
    "#load the pre-generated perplexity scores from `human_essays_perplexity.csv`, `gpt_essays_perplexity.csv`\n",
    "# and `paraphrased_essays_perplexity.csv`\n",
    "\n",
    "human_essays = pd.read_csv(\"Data/human_essays_perplexity.csv\")\n",
    "gpt_essays = pd.read_csv(\"Data/gpt_essays_perplexity.csv\")\n",
    "\n",
    "# Perplexity Paraphrased Essays\n",
    "paraphrased_essays = pd.read_csv(\"Data/paraphrased_essays_perplexity.csv\")\n",
    "\n",
    "human_essay_perplexities = human_essays['Perplexity']\n",
    "gpt_essay_perplexities = gpt_essays['Perplexity']\n",
    "paraphrased_essay_perplexities = paraphrased_essays['Perplexity']"
   ]
  },
  {
   "cell_type": "markdown",
   "metadata": {},
   "source": [
    "#### Distribution of Perplexities"
   ]
  },
  {
   "cell_type": "code",
   "execution_count": 11,
   "metadata": {},
   "outputs": [
    {
     "data": {
      "image/png": "[encoded data removed]",
      "text/plain": [
       "<Figure size 432x288 with 1 Axes>"
      ]
     },
     "metadata": {
      "needs_background": "light"
     },
     "output_type": "display_data"
    }
   ],
   "source": [
    "sns.histplot(human_essays, x=\"Perplexity\", stat='density', bins= np.arange(0, 100, 5), color=\"red\", label=\"Human Essays\")\n",
    "sns.histplot(gpt_essays, x='Perplexity', stat='density', bins=np.arange(0, 100, 5), color=\"green\", label=\"Original GPT Essays\")\n",
    "sns.histplot(paraphrased_essays, x=\"Perplexity\", stat=\"density\", bins=np.arange(0, 100, 5), color=\"blue\", label=\"Paraphrased GPT Essays\")\n",
    "\n",
    "plt.legend()\n",
    "plt.title(\"Distribution of Perplexity Scores\");"
   ]
  },
  {
   "cell_type": "code",
   "execution_count": 12,
   "metadata": {},
   "outputs": [
    {
     "data": {
      "text/plain": [
       "42.54258308244117"
      ]
     },
     "execution_count": 12,
     "metadata": {},
     "output_type": "execute_result"
    }
   ],
   "source": [
    "human_essay_perplexities.mean()"
   ]
  },
  {
   "cell_type": "code",
   "execution_count": 13,
   "metadata": {},
   "outputs": [
    {
     "data": {
      "text/plain": [
       "21.170623402793563"
      ]
     },
     "execution_count": 13,
     "metadata": {},
     "output_type": "execute_result"
    }
   ],
   "source": [
    "gpt_essay_perplexities.mean()"
   ]
  },
  {
   "cell_type": "code",
   "execution_count": 14,
   "metadata": {},
   "outputs": [
    {
     "data": {
      "text/plain": [
       "37.502183236533064"
      ]
     },
     "execution_count": 14,
     "metadata": {},
     "output_type": "execute_result"
    }
   ],
   "source": [
    "paraphrased_essay_perplexities.mean()"
   ]
  },
  {
   "cell_type": "markdown",
   "metadata": {},
   "source": [
    "<hr>"
   ]
  },
  {
   "cell_type": "markdown",
   "metadata": {},
   "source": [
    "#### Effect of Perplexity on ZeroGPT AI %"
   ]
  },
  {
   "cell_type": "code",
   "execution_count": 29,
   "metadata": {},
   "outputs": [
    {
     "name": "stdout",
     "output_type": "stream",
     "text": [
      "Correlation Coefficient: -0.5975586456474836\n"
     ]
    },
    {
     "data": {
      "image/png": "[encoded data removed]",
      "text/plain": [
       "<Figure size 432x288 with 1 Axes>"
      ]
     },
     "metadata": {
      "needs_background": "light"
     },
     "output_type": "display_data"
    }
   ],
   "source": [
    "sns.scatterplot(data = human_essays, x = \"Perplexity\", y = human_essays.columns[9],\n",
    "                hue = \"Discipline\")\n",
    "\n",
    "plt.title(\"Essay Perplexity vs. ZeroGPT AI %\");\n",
    "print(\"Correlation Coefficient:\", np.corrcoef(human_essays['Perplexity'], human_essays['Zero GPT AI % Full Text'])[0][1])"
   ]
  }
 ],
 "metadata": {
  "kernelspec": {
   "display_name": "base",
   "language": "python",
   "name": "python3"
  },
  "language_info": {
   "codemirror_mode": {
    "name": "ipython",
    "version": 3
   },
   "file_extension": ".py",
   "mimetype": "text/x-python",
   "name": "python",
   "nbconvert_exporter": "python",
   "pygments_lexer": "ipython3",
   "version": "3.8.8"
  },
  "orig_nbformat": 4
 },
 "nbformat": 4,
 "nbformat_minor": 2
}
